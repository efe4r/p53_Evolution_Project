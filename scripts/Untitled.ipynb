{
 "cells": [
  {
   "cell_type": "code",
   "execution_count": 4,
   "id": "62e2cd19-2dbe-4168-a781-820110643798",
   "metadata": {},
   "outputs": [
    {
     "data": {
      "application/vnd.jupyter.widget-view+json": {
       "model_id": "44739af199ca40ef86c289ca1441b85c",
       "version_major": 2,
       "version_minor": 0
      },
      "text/plain": [
       "NGLWidget()"
      ]
     },
     "metadata": {},
     "output_type": "display_data"
    }
   ],
   "source": [
    "import warnings\n",
    "from Bio import BiopythonWarning\n",
    "from Bio.PDB import PDBParser\n",
    "import nglview as nv\n",
    "from Bio import AlignIO\n",
    "\n",
    "# Uyarıları kapat\n",
    "warnings.simplefilter('ignore', BiopythonWarning)\n",
    "\n",
    "# --- 1) Dosya yolları ---\n",
    "pdb_file = r'C:\\Users\\PC\\Desktop\\p53_evolution\\1TUP.pdb'\n",
    "alignment_file = r'C:\\Users\\PC\\Desktop\\p53_evolution\\p53_aligned.fasta'\n",
    "\n",
    "# --- 2) Alignment oku ---\n",
    "aln = AlignIO.read(alignment_file,'fasta')\n",
    "\n",
    "# Human dizisini bul\n",
    "human = None\n",
    "for rec in aln:\n",
    "    if rec.id.startswith('H_sapiens'):\n",
    "        human = rec\n",
    "        break\n",
    "\n",
    "# --- 3) PDB yapısını oku ---\n",
    "parser = PDBParser()\n",
    "structure = parser.get_structure('p53', pdb_file)\n",
    "\n",
    "# --- 4) NGLview ile göster ---\n",
    "view = nv.show_biopython(structure)\n",
    "\n",
    "# --- 5) Human hotspotlar ---\n",
    "hotspots = [175,245,248,249,273,282]\n",
    "\n",
    "# Hotspotları kırmızı renkle göster\n",
    "for h in hotspots:\n",
    "    view.add_cartoon(selection=f\"resi {h}\", color='red')\n",
    "\n",
    "# DNA-binding domain (residues 94-292)\n",
    "view.add_cartoon(selection='resi 94-292', color='blue', opacity=0.3)\n",
    "\n",
    "# --- 6) 3D yapı widget olarak göster ---\n",
    "view\n"
   ]
  },
  {
   "cell_type": "code",
   "execution_count": null,
   "id": "6811bad2-290f-4da4-8baa-8ad6d184c110",
   "metadata": {},
   "outputs": [],
   "source": []
  }
 ],
 "metadata": {
  "kernelspec": {
   "display_name": "Python 3 (ipykernel)",
   "language": "python",
   "name": "python3"
  },
  "language_info": {
   "codemirror_mode": {
    "name": "ipython",
    "version": 3
   },
   "file_extension": ".py",
   "mimetype": "text/x-python",
   "name": "python",
   "nbconvert_exporter": "python",
   "pygments_lexer": "ipython3",
   "version": "3.13.7"
  }
 },
 "nbformat": 4,
 "nbformat_minor": 5
}
